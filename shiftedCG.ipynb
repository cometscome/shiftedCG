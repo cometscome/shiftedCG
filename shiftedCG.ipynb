{
 "cells": [
  {
   "cell_type": "code",
   "execution_count": 10,
   "metadata": {},
   "outputs": [
    {
     "name": "stderr",
     "output_type": "stream",
     "text": [
      "WARNING: replacing module shiftedcg\n"
     ]
    },
    {
     "data": {
      "text/plain": [
       "shiftedcg"
      ]
     },
     "execution_count": 10,
     "metadata": {},
     "output_type": "execute_result"
    }
   ],
   "source": []
  },
  {
   "cell_type": "code",
   "execution_count": 35,
   "metadata": {},
   "outputs": [
    {
     "name": "stdout",
     "output_type": "stream",
     "text": [
      "1.0e-12\n",
      "1.0\n",
      "error = 4.236266787050084e-14\n",
      "Num. of iterations = 27\n",
      "1   3.0112965804404886e-16\n",
      "2   1.1374499787494548e-16\n",
      "3   9.894916332125463e-22\n",
      "4   1.2808712865000874e-17\n",
      "5   1.2517883521279686e-16\n",
      "6   1.0243622252014032e-16\n",
      "7   3.7923408499474716e-15\n",
      "8   1.613721062276316e-19\n",
      "9   3.377938499521894e-16\n",
      "10   1.6403632500415104e-15\n",
      "11   3.646245927138717e-17\n",
      "12   1.383338424430063e-17\n",
      "13   3.5380548490156017e-17\n",
      "14   2.3492925217471896e-18\n",
      "15   1.9569480837605602e-16\n",
      "16   2.1993152057254138e-18\n",
      "17   3.933728461727635e-19\n",
      "18   2.5474277938711736e-16\n",
      "19   3.451270108095391e-17\n",
      "20   6.1694828508855284e-15\n"
     ]
    },
    {
     "name": "stderr",
     "output_type": "stream",
     "text": [
      "WARNING: replacing module shiftedcg\n"
     ]
    }
   ],
   "source": [
    "include(\"shiftedCG.jl\")\n",
    "n = 24\n",
    "mat_A = rand(n,n)\n",
    "mat_A = -(mat_A'+mat_A)/2\n",
    "b = rand(n)\n",
    "N = 20\n",
    "vec_σ = rand(N)\n",
    "#println(mat_A)\n",
    "\n",
    "vec_x,x = shiftedcg.solve(mat_A,n,b,vec_σ,N)\n",
    "#println(vec_x)\n",
    "#println(mat_A*x-b)\n",
    "for j in 1:N\n",
    "    r = vec_σ[j]*vec_x[:,j]+mat_A*vec_x[:,j]-b[:]\n",
    "    println(j,\"   \", r'*r)\n",
    "end"
   ]
  },
  {
   "cell_type": "code",
   "execution_count": null,
   "metadata": {
    "collapsed": true
   },
   "outputs": [],
   "source": []
  },
  {
   "cell_type": "code",
   "execution_count": null,
   "metadata": {
    "collapsed": true
   },
   "outputs": [],
   "source": []
  }
 ],
 "metadata": {
  "kernelspec": {
   "display_name": "Julia 0.6.1",
   "language": "julia",
   "name": "julia-0.6"
  },
  "language_info": {
   "file_extension": ".jl",
   "mimetype": "application/julia",
   "name": "julia",
   "version": "0.6.1"
  }
 },
 "nbformat": 4,
 "nbformat_minor": 2
}
