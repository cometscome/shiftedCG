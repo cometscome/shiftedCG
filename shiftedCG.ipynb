{
 "cells": [
  {
   "cell_type": "code",
   "execution_count": 10,
   "metadata": {},
   "outputs": [
    {
     "name": "stderr",
     "output_type": "stream",
     "text": [
      "WARNING: replacing module shiftedcg\n"
     ]
    },
    {
     "data": {
      "text/plain": [
       "shiftedcg"
      ]
     },
     "execution_count": 10,
     "metadata": {},
     "output_type": "execute_result"
    }
   ],
   "source": []
  },
  {
   "cell_type": "code",
   "execution_count": 9,
   "metadata": {},
   "outputs": [
    {
     "name": "stdout",
     "output_type": "stream",
     "text": [
      "--------------------------------------------------------\n",
      "Solving linear equations with the shifted CG method...\n"
     ]
    },
    {
     "name": "stderr",
     "output_type": "stream",
     "text": [
      "WARNING: replacing module shiftedcg\n"
     ]
    },
    {
     "name": "stdout",
     "output_type": "stream",
     "text": [
      "done.\n",
      "error = 5.949990565757592e-13\n",
      "Num. of iterations = 2262\n",
      "--------------------------------------------------------\n",
      "  0.872581 seconds (49.84 k allocations: 109.009 MiB, 1.10% gc time)\n",
      "1   1.1575455149329573e-14\n",
      "2   3.222095867172781e-12\n",
      "3   7.400415549259496e-14\n",
      "4   4.363262000839818e-17\n",
      "5   7.186676196568969e-13\n",
      "6   2.870507087387082e-16\n",
      "7   2.470941066193544e-16\n",
      "8   2.6815979204650276e-15\n",
      "9   3.1085249020871234e-14\n",
      "10   1.1579375528804585e-14\n",
      "11   7.110461840156476e-16\n",
      "12   1.4588698982545435e-14\n",
      "13   1.0954629902566138e-13\n",
      "14   2.5208746724267087e-14\n",
      "15   1.643491668925631e-14\n",
      "16   1.611648635176446e-12\n",
      "17   7.267492008782281e-12\n",
      "18   2.3706677902386246e-9\n",
      "19   2.3662313176604373e-16\n",
      "20   1.1096437719953692e-18\n"
     ]
    }
   ],
   "source": [
    "include(\"shiftedCG.jl\")\n",
    "n = 1000\n",
    "mat_A = rand(n,n)\n",
    "mat_A = -(mat_A'+mat_A)/2\n",
    "b = rand(n)\n",
    "N = 20\n",
    "vec_σ = rand(N)\n",
    "#println(mat_A)\n",
    "\n",
    "@time vec_x,x,conv = shiftedcg.solve(mat_A,n,b,vec_σ,N)\n",
    "#println(vec_x)\n",
    "#println(mat_A*x-b)\n",
    "for j in 1:N\n",
    "    r = vec_σ[j]*vec_x[:,j]+mat_A*vec_x[:,j]-b[:]\n",
    "    println(j,\"   \", r'*r)\n",
    "end"
   ]
  },
  {
   "cell_type": "code",
   "execution_count": 13,
   "metadata": {},
   "outputs": [
    {
     "name": "stdout",
     "output_type": "stream",
     "text": [
      "--------------------------------------------------------\n",
      "Solving linear equations with the shifted CG method...\n"
     ]
    },
    {
     "name": "stderr",
     "output_type": "stream",
     "text": [
      "WARNING: replacing module shiftedcg\n"
     ]
    },
    {
     "name": "stdout",
     "output_type": "stream",
     "text": [
      "done.\n",
      "error = 6.764747875499508e-13\n",
      "Num. of iterations = 2220\n",
      "--------------------------------------------------------\n",
      "  0.839150 seconds (38.34 k allocations: 3.024 MiB)\n",
      "1   7.338570998532015e-11\n",
      "2   3.2740594678712515e-10\n",
      "3   6.8795539705523135e-9\n",
      "4   8.142986749926194e-13\n",
      "5   3.5203862777036095e-12\n",
      "6   3.759463637804036e-13\n",
      "7   3.5208059900896115e-9\n",
      "8   5.162042651122448e-12\n",
      "9   3.67917965444153e-14\n",
      "10   1.7932406395728995e-11\n",
      "11   7.888032639222295e-9\n",
      "12   1.2499823819993574e-12\n",
      "13   1.2934147507615158e-12\n",
      "14   7.937163196402572e-13\n",
      "15   1.0322856779522256e-16\n",
      "16   3.6152299503895845e-14\n",
      "17   1.0111733839525879e-11\n",
      "18   1.4227093246981839e-11\n",
      "19   2.5943319411091038e-11\n",
      "20   4.887784228759068e-13\n"
     ]
    }
   ],
   "source": [
    "include(\"shiftedCG.jl\")\n",
    "n = 1000\n",
    "mat_A = rand(n,n)\n",
    "mat_A = -(mat_A'+mat_A)/2\n",
    "b = rand(n)\n",
    "N = 20\n",
    "vec_σ = rand(N)\n",
    "#println(mat_A)\n",
    "\n",
    "@time vec_x,x,conv = shiftedcg.solve(mat_A,n,b,vec_σ,N)\n",
    "#println(vec_x)\n",
    "#println(mat_A*x-b)\n",
    "for j in 1:N\n",
    "    r = vec_σ[j]*vec_x[:,j]+mat_A*vec_x[:,j]-b[:]\n",
    "    println(j,\"   \", r'*r)\n",
    "end"
   ]
  },
  {
   "cell_type": "code",
   "execution_count": 5,
   "metadata": {},
   "outputs": [
    {
     "name": "stdout",
     "output_type": "stream",
     "text": [
      "--------------------------------------------------------\n",
      "Solving linear equations with the shifted CG method...\n"
     ]
    },
    {
     "name": "stderr",
     "output_type": "stream",
     "text": [
      "WARNING: replacing module shiftedcg\n"
     ]
    },
    {
     "name": "stdout",
     "output_type": "stream",
     "text": [
      "done.\n",
      "error = 4.3351533188429605e-13\n",
      "Num. of iterations = 2600\n",
      "--------------------------------------------------------\n",
      "  1.772260 seconds (838.55 k allocations: 3.670 GiB, 16.15% gc time)\n",
      "1   1.877661636906122e-14\n",
      "2   1.2176787008111314e-16\n",
      "3   2.140865135876181e-15\n",
      "4   4.083955781359047e-16\n",
      "5   1.5858766236055748e-16\n",
      "6   2.683227412244634e-13\n",
      "7   2.196906780274543e-16\n",
      "8   1.3613865081304823e-15\n",
      "9   3.4637066029141443e-13\n",
      "10   4.324693910384517e-16\n",
      "11   5.3734097964919505e-15\n",
      "12   5.5798459659160476e-9\n",
      "13   4.98619674959847e-13\n",
      "14   1.9540666707462777e-14\n",
      "15   4.298128598329182e-15\n",
      "16   4.072289231424234e-16\n",
      "17   4.491837674576546e-14\n",
      "18   1.5212505831140258e-14\n",
      "19   1.8929895530524386e-15\n",
      "20   1.0685563222864077e-12\n"
     ]
    }
   ],
   "source": [
    "include(\"shiftedCG.jl\")\n",
    "n = 1000\n",
    "mat_A = rand(n,n)\n",
    "mat_A = -(mat_A'+mat_A)/2\n",
    "b = rand(n)\n",
    "N = 20\n",
    "vec_σ = rand(N)\n",
    "#println(mat_A)\n",
    "\n",
    "@time vec_x,x,conv = shiftedcg.solve(mat_A,n,b,vec_σ,N)\n",
    "#println(vec_x)\n",
    "#println(mat_A*x-b)\n",
    "for j in 1:N\n",
    "    r = vec_σ[j]*vec_x[:,j]+mat_A*vec_x[:,j]-b[:]\n",
    "    println(j,\"   \", r'*r)\n",
    "end"
   ]
  },
  {
   "cell_type": "code",
   "execution_count": null,
   "metadata": {
    "collapsed": true
   },
   "outputs": [],
   "source": []
  }
 ],
 "metadata": {
  "kernelspec": {
   "display_name": "Julia 0.6.2",
   "language": "julia",
   "name": "julia-0.6"
  },
  "language_info": {
   "file_extension": ".jl",
   "mimetype": "application/julia",
   "name": "julia",
   "version": "0.6.2"
  }
 },
 "nbformat": 4,
 "nbformat_minor": 2
}
