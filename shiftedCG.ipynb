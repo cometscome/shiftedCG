{
 "cells": [
  {
   "cell_type": "code",
   "execution_count": 10,
   "metadata": {},
   "outputs": [
    {
     "name": "stderr",
     "output_type": "stream",
     "text": [
      "WARNING: replacing module shiftedcg\n"
     ]
    },
    {
     "data": {
      "text/plain": [
       "shiftedcg"
      ]
     },
     "execution_count": 10,
     "metadata": {},
     "output_type": "execute_result"
    }
   ],
   "source": []
  },
  {
   "cell_type": "code",
   "execution_count": 3,
   "metadata": {},
   "outputs": [
    {
     "name": "stdout",
     "output_type": "stream",
     "text": [
      "--------------------------------------------------------\n",
      "Solving linear equations with the shifted CG method...\n",
      "done.\n",
      "error = 6.54287019703133e-13\n",
      "Num. of iterations = 28\n",
      "--------------------------------------------------------\n",
      "1   2.7339672424413217e-17\n",
      "2   1.822783932704425e-15\n",
      "3   1.8783165252234722e-18\n",
      "4   1.858758281685391e-19\n",
      "5   1.773089590051653e-18\n",
      "6   3.882201900383142e-18\n",
      "7   9.525490216658777e-20\n",
      "8   2.784811607219609e-18\n",
      "9   1.379415987155295e-18\n",
      "10   5.549021257032251e-16\n",
      "11   5.66566380901865e-20\n",
      "12   9.573248841349738e-18\n",
      "13   1.0090592976962457e-15\n",
      "14   2.485434312710709e-16\n",
      "15   1.7322137011064178e-18\n",
      "16   6.834498782926154e-17\n",
      "17   7.154669245254419e-17\n",
      "18   1.5087711162798596e-19\n",
      "19   8.889223753830024e-19\n",
      "20   6.7551934511958265e-15\n"
     ]
    },
    {
     "name": "stderr",
     "output_type": "stream",
     "text": [
      "WARNING: replacing module shiftedcg\n",
      "\u001b[91mERROR (unhandled task failure): \u001b[91mInterruptException:\u001b[39m\n",
      "Stacktrace:\n",
      " [1] \u001b[1mprocess_events\u001b[22m\u001b[22m at \u001b[1m./libuv.jl:82\u001b[22m\u001b[22m [inlined]\n",
      " [2] \u001b[1mwait\u001b[22m\u001b[22m\u001b[1m(\u001b[22m\u001b[22m\u001b[1m)\u001b[22m\u001b[22m at \u001b[1m./event.jl:216\u001b[22m\u001b[22m\n",
      " [3] \u001b[1mwait\u001b[22m\u001b[22m\u001b[1m(\u001b[22m\u001b[22m::Condition\u001b[1m)\u001b[22m\u001b[22m at \u001b[1m./event.jl:27\u001b[22m\u001b[22m\n",
      " [4] \u001b[1mstream_wait\u001b[22m\u001b[22m\u001b[1m(\u001b[22m\u001b[22m::Timer, ::Condition, ::Vararg{Condition,N} where N\u001b[1m)\u001b[22m\u001b[22m at \u001b[1m./stream.jl:42\u001b[22m\u001b[22m\n",
      " [5] \u001b[1mwait\u001b[22m\u001b[22m\u001b[1m(\u001b[22m\u001b[22m::Timer\u001b[1m)\u001b[22m\u001b[22m at \u001b[1m./event.jl:357\u001b[22m\u001b[22m\n",
      " [6] \u001b[1m(::Base.##300#301{IJulia.#send_stderr,Timer})\u001b[22m\u001b[22m\u001b[1m(\u001b[22m\u001b[22m\u001b[1m)\u001b[22m\u001b[22m at \u001b[1m./event.jl:430\u001b[22m\u001b[22m\n",
      "\u001b[39m"
     ]
    }
   ],
   "source": [
    "include(\"shiftedCG.jl\")\n",
    "n = 24\n",
    "mat_A = rand(n,n)\n",
    "mat_A = -(mat_A'+mat_A)/2\n",
    "b = rand(n)\n",
    "N = 20\n",
    "vec_σ = rand(N)\n",
    "#println(mat_A)\n",
    "\n",
    "vec_x,x,conv = shiftedcg.solve(mat_A,n,b,vec_σ,N)\n",
    "#println(vec_x)\n",
    "#println(mat_A*x-b)\n",
    "for j in 1:N\n",
    "    r = vec_σ[j]*vec_x[:,j]+mat_A*vec_x[:,j]-b[:]\n",
    "    println(j,\"   \", r'*r)\n",
    "end"
   ]
  },
  {
   "cell_type": "code",
   "execution_count": null,
   "metadata": {
    "collapsed": true
   },
   "outputs": [],
   "source": []
  },
  {
   "cell_type": "code",
   "execution_count": null,
   "metadata": {
    "collapsed": true
   },
   "outputs": [],
   "source": []
  }
 ],
 "metadata": {
  "kernelspec": {
   "display_name": "Julia 0.6.0",
   "language": "julia",
   "name": "julia-0.6"
  },
  "language_info": {
   "file_extension": ".jl",
   "mimetype": "application/julia",
   "name": "julia",
   "version": "0.6.0"
  }
 },
 "nbformat": 4,
 "nbformat_minor": 2
}
